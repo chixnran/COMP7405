{
 "cells": [
  {
   "cell_type": "markdown",
   "id": "50dae961",
   "metadata": {},
   "source": [
    "# Question 1\n",
    "## Numerical Outcome\n",
    "- 1 <br/>\n",
    "call option price: 5.876024233827607  \n",
    "put option price: 5.377272153095845\n",
    "- 2 <br/>\n",
    "call option price: 2.33942\n",
    "0513720004  \n",
    "put option price: 11.790793224915063\n",
    "- 3 <br/>\n",
    "call option price: 8.433318690109608  \n",
    "put option price: 7.438302065026413\n",
    "- 4 <br/>\n",
    "call option price: 8.677645562336004  \n",
    "put option price: 8.178893481604248\n",
    "- 5 <br/>\n",
    "call option price: 6.120654113455842  \n",
    "put option price: 5.1256374883726465<br/>  \n",
    "\n",
    "## Comments\n",
    "The **call option** price is positively correlated to maturity, volatility and risk free rate but negatively correlated to strike price;  \n",
    "The **put option** price is positively correlated to strike price, maturity and volatility, but negatively correlated to risk free rate."
   ]
  },
  {
   "cell_type": "code",
   "execution_count": null,
   "id": "18dfdc2d",
   "metadata": {},
   "outputs": [],
   "source": []
  }
 ],
 "metadata": {
  "kernelspec": {
   "display_name": "Python 3 (ipykernel)",
   "language": "python",
   "name": "python3"
  },
  "language_info": {
   "codemirror_mode": {
    "name": "ipython",
    "version": 3
   },
   "file_extension": ".py",
   "mimetype": "text/x-python",
   "name": "python",
   "nbconvert_exporter": "python",
   "pygments_lexer": "ipython3",
   "version": "3.9.13"
  }
 },
 "nbformat": 4,
 "nbformat_minor": 5
}
