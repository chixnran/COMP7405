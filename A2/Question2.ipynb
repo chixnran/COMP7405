{
 "cells": [
  {
   "cell_type": "markdown",
   "id": "ce484fe2",
   "metadata": {},
   "source": [
    "## 2.2"
   ]
  },
  {
   "cell_type": "code",
   "execution_count": 53,
   "id": "03fe703e",
   "metadata": {},
   "outputs": [],
   "source": [
    "import math\n",
    "import pandas as pd\n",
    "import numpy as np\n",
    "from numpy.random import seed\n",
    "from numpy.random import normal"
   ]
  },
  {
   "cell_type": "code",
   "execution_count": 54,
   "id": "526125d4",
   "metadata": {},
   "outputs": [
    {
     "name": "stdout",
     "output_type": "stream",
     "text": [
      "[ 0.2773202   0.75737185 -0.57414883  0.75476022  0.31517587]\n",
      "[-2.20933962  0.52711645  0.03703593 -0.83097569  0.43222653]\n"
     ]
    }
   ],
   "source": [
    "# generate 200 samples\n",
    "X = normal(loc=0, scale=1, size=200)\n",
    "Y = normal(loc=0, scale=1, size=200)\n",
    "print(X[0:5])\n",
    "print(Y[0:5])"
   ]
  },
  {
   "cell_type": "code",
   "execution_count": 55,
   "id": "292fb0fa",
   "metadata": {},
   "outputs": [
    {
     "name": "stdout",
     "output_type": "stream",
     "text": [
      "[-1.77468414  0.83518217 -0.25500036 -0.34226595  0.53190709]\n"
     ]
    }
   ],
   "source": [
    "# Z = ρX+sqrt{(1 − ρ^2)}Y\n",
    "ρ = 0.5\n",
    "Z = ρ * X + math.sqrt(1 - ρ ** 2) * Y\n",
    "print(Z[0:5])"
   ]
  },
  {
   "cell_type": "code",
   "execution_count": 56,
   "id": "7fd5d473",
   "metadata": {},
   "outputs": [
    {
     "name": "stdout",
     "output_type": "stream",
     "text": [
      "Corr=0.4760221982732191\n"
     ]
    }
   ],
   "source": [
    "Corr = np.corrcoef(X,Z)\n",
    "print(f'Corr={Corr[1,0]}')"
   ]
  },
  {
   "cell_type": "code",
   "execution_count": 57,
   "id": "ecf2460d",
   "metadata": {},
   "outputs": [
    {
     "name": "stdout",
     "output_type": "stream",
     "text": [
      "0.5\n"
     ]
    }
   ],
   "source": [
    "corr_2f=round(Corr[1,0],1)\n",
    "print(corr_2f)"
   ]
  },
  {
   "cell_type": "markdown",
   "id": "5ea3ed5a",
   "metadata": {},
   "source": [
    "At the level of one decimal place and 200 samples, the correlation coefficient a is equal to the coefficient ρ."
   ]
  },
  {
   "cell_type": "code",
   "execution_count": null,
   "id": "8366d475",
   "metadata": {},
   "outputs": [],
   "source": []
  }
 ],
 "metadata": {
  "kernelspec": {
   "display_name": "Python 3 (ipykernel)",
   "language": "python",
   "name": "python3"
  },
  "language_info": {
   "codemirror_mode": {
    "name": "ipython",
    "version": 3
   },
   "file_extension": ".py",
   "mimetype": "text/x-python",
   "name": "python",
   "nbconvert_exporter": "python",
   "pygments_lexer": "ipython3",
   "version": "3.9.13"
  }
 },
 "nbformat": 4,
 "nbformat_minor": 5
}
